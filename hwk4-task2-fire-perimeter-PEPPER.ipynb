{
 "cells": [
  {
   "cell_type": "markdown",
   "id": "97ef516b-083d-4226-9cfe-2baeead54766",
   "metadata": {},
   "source": [
    "# EDS 220 - Homework 4\n",
    "## Task 2 - Section 1: Thomas Fire perimeter data retrieval and selection\n",
    "\n",
    "Author: Nicole Pepper\n",
    "\n",
    "Link to github repo: https://github.com/nicolelpepper/eds220-hwk4\n",
    "\n",
    "### About this notebook:\n",
    "\n",
    "This notebook subsets the 2017 Thomas Fire perimeter from the CAL FIRE historic fire boundary dataset and exports it as a shapefile.\n",
    "\n",
    "### Highlights: \n",
    "- Data wrangling with `pandas`\n",
    "- Working with geospatial data with `geopandas`\n",
    "- Exporting and saving geospatial file\n",
    "\n",
    "\n",
    "### Datasets descriptions:\n",
    "\n",
    "- The `thomas_fire.shp` dataset is provided by CAL FIRE. It contains historical boundaries for fires (including both natural and prescribed fires) in the state of California. The dataset has a good record of past large fires but is not complete and may be missing some fires. It is stored in my data folder. (Access Date: 11/20/24, [Link to data](https://catalog.data.gov/dataset/california-fire-perimeters-all-b3436/resource/6955eaf7-6452-4922-bc7d-bdac9091c538?inner_span=True))\n",
    "- The `landsat` dataset is an image from Landsat Collection 2 Level-2, from the Microsof Planetary Computer data catalogue. Landsat Collection 2 Level-2 Science Products consist of atmospherically corrected surface reflectance and surface temperature image data. Collection 2 Level-2 Science Products are available from August 22, 1982 to present. It is accessed through UCSB Workbench 2. (Access Date: 11/20/24, [Link to data](https://planetarycomputer.microsoft.com/dataset/landsat-c2-l2)) It is accessed through UCSB Workbench 2. (Access Date: 11/20/24, [Link to data](https://planetarycomputer.microsoft.com/dataset/landsat-c2-l2))"
   ]
  },
  {
   "cell_type": "markdown",
   "id": "ae19300c-7762-4e98-9c5f-f6c78d742bd2",
   "metadata": {},
   "source": [
    "### Set Up Workspace"
   ]
  },
  {
   "cell_type": "code",
   "execution_count": 1,
   "id": "ca2205f1-2919-41dc-b767-af7539929440",
   "metadata": {
    "tags": []
   },
   "outputs": [],
   "source": [
    "# Load Libraries\n",
    "import os\n",
    "import pandas as pd\n",
    "import geopandas as gpd\n",
    "from shapely.geometry import Polygon\n",
    "from pyproj import CRS"
   ]
  },
  {
   "cell_type": "markdown",
   "id": "49507065-e676-4d21-8b93-22cc7a4c7970",
   "metadata": {},
   "source": [
    "### Import Data"
   ]
  },
  {
   "cell_type": "code",
   "execution_count": 2,
   "id": "479e24b7-bf91-4313-9848-8b74ab80cf5d",
   "metadata": {
    "tags": []
   },
   "outputs": [],
   "source": [
    "# Set anaconda environment\n",
    "os.environ['PROJ_LIB'] = '/opt/anaconda3/share/proj'\n",
    "\n",
    "# Read in ca fire perimeter data \n",
    "ca_fires = gpd.read_file(\"data/ca_fire_perim/California_Fire_Perimeters.shp\")"
   ]
  },
  {
   "cell_type": "markdown",
   "id": "3b951734-fee6-44b8-b73c-d086daeb3902",
   "metadata": {},
   "source": [
    "### Explore CAL FIRE data"
   ]
  },
  {
   "cell_type": "code",
   "execution_count": 3,
   "id": "db353c4e-b74e-4c14-a53c-9dff5b2d1da8",
   "metadata": {
    "tags": []
   },
   "outputs": [
    {
     "data": {
      "text/html": [
       "<div>\n",
       "<style scoped>\n",
       "    .dataframe tbody tr th:only-of-type {\n",
       "        vertical-align: middle;\n",
       "    }\n",
       "\n",
       "    .dataframe tbody tr th {\n",
       "        vertical-align: top;\n",
       "    }\n",
       "\n",
       "    .dataframe thead th {\n",
       "        text-align: right;\n",
       "    }\n",
       "</style>\n",
       "<table border=\"1\" class=\"dataframe\">\n",
       "  <thead>\n",
       "    <tr style=\"text-align: right;\">\n",
       "      <th></th>\n",
       "      <th>YEAR_</th>\n",
       "      <th>STATE</th>\n",
       "      <th>AGENCY</th>\n",
       "      <th>UNIT_ID</th>\n",
       "      <th>FIRE_NAME</th>\n",
       "      <th>INC_NUM</th>\n",
       "      <th>ALARM_DATE</th>\n",
       "      <th>CONT_DATE</th>\n",
       "      <th>CAUSE</th>\n",
       "      <th>C_METHOD</th>\n",
       "      <th>OBJECTIVE</th>\n",
       "      <th>GIS_ACRES</th>\n",
       "      <th>COMMENTS</th>\n",
       "      <th>COMPLEX_NA</th>\n",
       "      <th>IRWINID</th>\n",
       "      <th>FIRE_NUM</th>\n",
       "      <th>COMPLEX_ID</th>\n",
       "      <th>DECADES</th>\n",
       "      <th>geometry</th>\n",
       "    </tr>\n",
       "  </thead>\n",
       "  <tbody>\n",
       "    <tr>\n",
       "      <th>0</th>\n",
       "      <td>2023</td>\n",
       "      <td>CA</td>\n",
       "      <td>CDF</td>\n",
       "      <td>SKU</td>\n",
       "      <td>WHITWORTH</td>\n",
       "      <td>00004808</td>\n",
       "      <td>2023-06-17</td>\n",
       "      <td>2023-06-17</td>\n",
       "      <td>5</td>\n",
       "      <td>1</td>\n",
       "      <td>1</td>\n",
       "      <td>5.72913</td>\n",
       "      <td>None</td>\n",
       "      <td>None</td>\n",
       "      <td>{7985848C-0AC2-4BA4-8F0E-29F778652E61}</td>\n",
       "      <td>None</td>\n",
       "      <td>None</td>\n",
       "      <td>2020</td>\n",
       "      <td>POLYGON ((-13682443.000 5091132.739, -13682445...</td>\n",
       "    </tr>\n",
       "    <tr>\n",
       "      <th>1</th>\n",
       "      <td>2023</td>\n",
       "      <td>CA</td>\n",
       "      <td>LRA</td>\n",
       "      <td>BTU</td>\n",
       "      <td>KAISER</td>\n",
       "      <td>00010225</td>\n",
       "      <td>2023-06-02</td>\n",
       "      <td>2023-06-02</td>\n",
       "      <td>5</td>\n",
       "      <td>1</td>\n",
       "      <td>1</td>\n",
       "      <td>13.60240</td>\n",
       "      <td>None</td>\n",
       "      <td>None</td>\n",
       "      <td>{43EBCC88-B3AC-48EB-8EF5-417FE0939CCF}</td>\n",
       "      <td>None</td>\n",
       "      <td>None</td>\n",
       "      <td>2020</td>\n",
       "      <td>POLYGON ((-13576727.142 4841226.161, -13576726...</td>\n",
       "    </tr>\n",
       "    <tr>\n",
       "      <th>2</th>\n",
       "      <td>2023</td>\n",
       "      <td>CA</td>\n",
       "      <td>CDF</td>\n",
       "      <td>AEU</td>\n",
       "      <td>JACKSON</td>\n",
       "      <td>00017640</td>\n",
       "      <td>2023-07-01</td>\n",
       "      <td>2023-07-02</td>\n",
       "      <td>2</td>\n",
       "      <td>1</td>\n",
       "      <td>1</td>\n",
       "      <td>27.81450</td>\n",
       "      <td>None</td>\n",
       "      <td>None</td>\n",
       "      <td>{B64E1355-BF1D-441A-95D0-BC1FBB93483B}</td>\n",
       "      <td>None</td>\n",
       "      <td>None</td>\n",
       "      <td>2020</td>\n",
       "      <td>POLYGON ((-13459243.000 4621236.000, -13458968...</td>\n",
       "    </tr>\n",
       "    <tr>\n",
       "      <th>3</th>\n",
       "      <td>2023</td>\n",
       "      <td>CA</td>\n",
       "      <td>CDF</td>\n",
       "      <td>AEU</td>\n",
       "      <td>CARBON</td>\n",
       "      <td>00018821</td>\n",
       "      <td>2023-07-11</td>\n",
       "      <td>2023-07-11</td>\n",
       "      <td>9</td>\n",
       "      <td>1</td>\n",
       "      <td>1</td>\n",
       "      <td>58.76020</td>\n",
       "      <td>None</td>\n",
       "      <td>None</td>\n",
       "      <td>{CB41DB0A-E4B1-489D-A4EA-738F2CD6DB3B}</td>\n",
       "      <td>None</td>\n",
       "      <td>None</td>\n",
       "      <td>2020</td>\n",
       "      <td>POLYGON ((-13468077.000 4642260.000, -13467975...</td>\n",
       "    </tr>\n",
       "    <tr>\n",
       "      <th>4</th>\n",
       "      <td>2023</td>\n",
       "      <td>CA</td>\n",
       "      <td>CDF</td>\n",
       "      <td>AEU</td>\n",
       "      <td>LIBERTY</td>\n",
       "      <td>00018876</td>\n",
       "      <td>2023-07-11</td>\n",
       "      <td>2023-07-12</td>\n",
       "      <td>14</td>\n",
       "      <td>1</td>\n",
       "      <td>1</td>\n",
       "      <td>70.97900</td>\n",
       "      <td>None</td>\n",
       "      <td>None</td>\n",
       "      <td>{F83F70A4-07A7-40B8-BD51-10CCC1C30D63}</td>\n",
       "      <td>None</td>\n",
       "      <td>None</td>\n",
       "      <td>2020</td>\n",
       "      <td>POLYGON ((-13468418.000 4614853.000, -13468428...</td>\n",
       "    </tr>\n",
       "  </tbody>\n",
       "</table>\n",
       "</div>"
      ],
      "text/plain": [
       "   YEAR_ STATE AGENCY UNIT_ID  FIRE_NAME   INC_NUM  ALARM_DATE   CONT_DATE  \\\n",
       "0   2023    CA    CDF     SKU  WHITWORTH  00004808  2023-06-17  2023-06-17   \n",
       "1   2023    CA    LRA     BTU     KAISER  00010225  2023-06-02  2023-06-02   \n",
       "2   2023    CA    CDF     AEU    JACKSON  00017640  2023-07-01  2023-07-02   \n",
       "3   2023    CA    CDF     AEU     CARBON  00018821  2023-07-11  2023-07-11   \n",
       "4   2023    CA    CDF     AEU    LIBERTY  00018876  2023-07-11  2023-07-12   \n",
       "\n",
       "   CAUSE  C_METHOD  OBJECTIVE  GIS_ACRES COMMENTS COMPLEX_NA  \\\n",
       "0      5         1          1    5.72913     None       None   \n",
       "1      5         1          1   13.60240     None       None   \n",
       "2      2         1          1   27.81450     None       None   \n",
       "3      9         1          1   58.76020     None       None   \n",
       "4     14         1          1   70.97900     None       None   \n",
       "\n",
       "                                  IRWINID FIRE_NUM COMPLEX_ID  DECADES  \\\n",
       "0  {7985848C-0AC2-4BA4-8F0E-29F778652E61}     None       None     2020   \n",
       "1  {43EBCC88-B3AC-48EB-8EF5-417FE0939CCF}     None       None     2020   \n",
       "2  {B64E1355-BF1D-441A-95D0-BC1FBB93483B}     None       None     2020   \n",
       "3  {CB41DB0A-E4B1-489D-A4EA-738F2CD6DB3B}     None       None     2020   \n",
       "4  {F83F70A4-07A7-40B8-BD51-10CCC1C30D63}     None       None     2020   \n",
       "\n",
       "                                            geometry  \n",
       "0  POLYGON ((-13682443.000 5091132.739, -13682445...  \n",
       "1  POLYGON ((-13576727.142 4841226.161, -13576726...  \n",
       "2  POLYGON ((-13459243.000 4621236.000, -13458968...  \n",
       "3  POLYGON ((-13468077.000 4642260.000, -13467975...  \n",
       "4  POLYGON ((-13468418.000 4614853.000, -13468428...  "
      ]
     },
     "execution_count": 3,
     "metadata": {},
     "output_type": "execute_result"
    }
   ],
   "source": [
    "# Display all columns in preview\n",
    "pd.set_option(\"display.max.columns\", None)\n",
    "\n",
    "# Check out ca fire perimeter data\n",
    "ca_fires.head()"
   ]
  },
  {
   "cell_type": "code",
   "execution_count": 4,
   "id": "5ad3276b-d9d1-4586-85b0-3ab279f12be9",
   "metadata": {
    "tags": []
   },
   "outputs": [
    {
     "data": {
      "text/plain": [
       "(22261, 19)"
      ]
     },
     "execution_count": 4,
     "metadata": {},
     "output_type": "execute_result"
    }
   ],
   "source": [
    "# Explore CAL FIRE dimensions/shape\n",
    "ca_fires.shape"
   ]
  },
  {
   "cell_type": "code",
   "execution_count": 5,
   "id": "4bb9d2f0-f3be-4d3c-b409-ef608d2974fd",
   "metadata": {
    "tags": []
   },
   "outputs": [
    {
     "name": "stdout",
     "output_type": "stream",
     "text": [
      "YEAR_            int64\n",
      "STATE           object\n",
      "AGENCY          object\n",
      "UNIT_ID         object\n",
      "FIRE_NAME       object\n",
      "INC_NUM         object\n",
      "ALARM_DATE      object\n",
      "CONT_DATE       object\n",
      "CAUSE            int64\n",
      "C_METHOD         int64\n",
      "OBJECTIVE        int64\n",
      "GIS_ACRES      float64\n",
      "COMMENTS        object\n",
      "COMPLEX_NA      object\n",
      "IRWINID         object\n",
      "FIRE_NUM        object\n",
      "COMPLEX_ID      object\n",
      "DECADES          int64\n",
      "geometry      geometry\n",
      "dtype: object\n"
     ]
    }
   ],
   "source": [
    "# Explore data types\n",
    "print(ca_fires.dtypes)"
   ]
  },
  {
   "cell_type": "code",
   "execution_count": 6,
   "id": "b353133e-9883-4bb4-ac07-bfbbebf50ad3",
   "metadata": {},
   "outputs": [
    {
     "name": "stdout",
     "output_type": "stream",
     "text": [
      "Max Year = 2023\n",
      "Min Year = 0\n"
     ]
    }
   ],
   "source": [
    "# Explore date range (min & max)\n",
    "print(\"Max Year =\", ca_fires['YEAR_'].max())\n",
    "print(\"Min Year =\", ca_fires['YEAR_'].min())"
   ]
  },
  {
   "cell_type": "code",
   "execution_count": 7,
   "id": "cf146b41-41a9-442f-b9a4-6bade0f9a2b8",
   "metadata": {
    "tags": []
   },
   "outputs": [
    {
     "name": "stdout",
     "output_type": "stream",
     "text": [
      "Is the ca_fires CRS geographic? False\n",
      "Is the ca_fires CRS projected? True\n",
      "The ca_fires CRS is: WGS_1984_Web_Mercator_Auxiliary_Sphere\n"
     ]
    }
   ],
   "source": [
    "# ---- Check crs ----\n",
    "\n",
    "# Check if fire data is geographic\n",
    "print(\"Is the ca_fires CRS geographic?\", ca_fires.crs.is_geographic)\n",
    "\n",
    "# Check if fire data is projected \n",
    "print(\"Is the ca_fires CRS projected?\", ca_fires.crs.is_projected)\n",
    "\n",
    "# Print the CRS name\n",
    "print(\"The ca_fires CRS is:\", CRS(ca_fires.crs).name)"
   ]
  },
  {
   "cell_type": "markdown",
   "id": "3a84f30a-b4a8-4e5c-a5c0-8f1e30bac4a8",
   "metadata": {},
   "source": [
    "#### Summary of Data:\n",
    "My preliminary data exploration found that the CAL Fire data is a projected geospatial layer. It's CRS is WGS 1984 Web Mercator Auxilary Sphere. I retrieved the value types for each of the columns. The data frame has a total of 19 columns and 22261 observations (recorded fires). Some of the attributes that I think will be helpful for this study include the 'YEAR_', 'FIRE_NAME', and 'GIS_ACRES' columns. "
   ]
  },
  {
   "cell_type": "markdown",
   "id": "17e33e1d-6edc-4ec1-bac4-093a6249e950",
   "metadata": {},
   "source": [
    "### Subset CAL FIRE Data to 2017 Thomas Fire"
   ]
  },
  {
   "cell_type": "code",
   "execution_count": 8,
   "id": "9707595a-d9ca-42d5-9564-e0d6ea059f18",
   "metadata": {
    "tags": []
   },
   "outputs": [
    {
     "data": {
      "text/html": [
       "<div>\n",
       "<style scoped>\n",
       "    .dataframe tbody tr th:only-of-type {\n",
       "        vertical-align: middle;\n",
       "    }\n",
       "\n",
       "    .dataframe tbody tr th {\n",
       "        vertical-align: top;\n",
       "    }\n",
       "\n",
       "    .dataframe thead th {\n",
       "        text-align: right;\n",
       "    }\n",
       "</style>\n",
       "<table border=\"1\" class=\"dataframe\">\n",
       "  <thead>\n",
       "    <tr style=\"text-align: right;\">\n",
       "      <th></th>\n",
       "      <th>YEAR_</th>\n",
       "      <th>STATE</th>\n",
       "      <th>AGENCY</th>\n",
       "      <th>UNIT_ID</th>\n",
       "      <th>FIRE_NAME</th>\n",
       "      <th>INC_NUM</th>\n",
       "      <th>ALARM_DATE</th>\n",
       "      <th>CONT_DATE</th>\n",
       "      <th>CAUSE</th>\n",
       "      <th>C_METHOD</th>\n",
       "      <th>OBJECTIVE</th>\n",
       "      <th>GIS_ACRES</th>\n",
       "      <th>COMMENTS</th>\n",
       "      <th>COMPLEX_NA</th>\n",
       "      <th>IRWINID</th>\n",
       "      <th>FIRE_NUM</th>\n",
       "      <th>COMPLEX_ID</th>\n",
       "      <th>DECADES</th>\n",
       "      <th>geometry</th>\n",
       "    </tr>\n",
       "  </thead>\n",
       "  <tbody>\n",
       "    <tr>\n",
       "      <th>2654</th>\n",
       "      <td>2017</td>\n",
       "      <td>CA</td>\n",
       "      <td>USF</td>\n",
       "      <td>VNC</td>\n",
       "      <td>THOMAS</td>\n",
       "      <td>00003583</td>\n",
       "      <td>2017-12-04</td>\n",
       "      <td>2018-01-12</td>\n",
       "      <td>9</td>\n",
       "      <td>7</td>\n",
       "      <td>1</td>\n",
       "      <td>281791.0</td>\n",
       "      <td>CONT_DATE based on Inciweb</td>\n",
       "      <td>None</td>\n",
       "      <td>None</td>\n",
       "      <td>None</td>\n",
       "      <td>None</td>\n",
       "      <td>2010</td>\n",
       "      <td>MULTIPOLYGON (((-13316089.016 4088553.040, -13...</td>\n",
       "    </tr>\n",
       "  </tbody>\n",
       "</table>\n",
       "</div>"
      ],
      "text/plain": [
       "      YEAR_ STATE AGENCY UNIT_ID FIRE_NAME   INC_NUM  ALARM_DATE   CONT_DATE  \\\n",
       "2654   2017    CA    USF     VNC    THOMAS  00003583  2017-12-04  2018-01-12   \n",
       "\n",
       "      CAUSE  C_METHOD  OBJECTIVE  GIS_ACRES                    COMMENTS  \\\n",
       "2654      9         7          1   281791.0  CONT_DATE based on Inciweb   \n",
       "\n",
       "     COMPLEX_NA IRWINID FIRE_NUM COMPLEX_ID  DECADES  \\\n",
       "2654       None    None     None       None     2010   \n",
       "\n",
       "                                               geometry  \n",
       "2654  MULTIPOLYGON (((-13316089.016 4088553.040, -13...  "
      ]
     },
     "execution_count": 8,
     "metadata": {},
     "output_type": "execute_result"
    }
   ],
   "source": [
    "# Select and subset data for year = 2017 and name = Thomas Fire \n",
    "thomas_fire = ca_fires[(ca_fires[\"YEAR_\"] == 2017) & (ca_fires[\"FIRE_NAME\"] == \"THOMAS\")]\n",
    "\n",
    "thomas_fire"
   ]
  },
  {
   "cell_type": "markdown",
   "id": "3fab5f30-51d5-48a8-a0eb-1ab6917527ae",
   "metadata": {},
   "source": [
    "### Export Thomas Fire boundary as shapefile to data folder\n",
    "\n",
    "I chose to save the Thomas Fire as a shapefile since it is an easy-to-use and tidy geospatial data format that I like to use."
   ]
  },
  {
   "cell_type": "code",
   "execution_count": 9,
   "id": "30f22c1a-bb7a-416a-a7d3-3b64442d2b46",
   "metadata": {
    "tags": []
   },
   "outputs": [],
   "source": [
    "# Create file path to data folder \n",
    "filepath = \"/Users/npepper/meds/eds-220/eds220-2024-hw/eds220-hwk4/data/thomas_fire\"\n",
    "\n",
    "# Save Thomas fire boundary to geospatial shape file \n",
    "thomas_fire.to_file(f\"{filepath}/thomas_fire.shp\", driver='ESRI Shapefile')"
   ]
  },
  {
   "cell_type": "markdown",
   "id": "1a4d9396-4289-4ae3-91dd-5b50cf9d42a5",
   "metadata": {},
   "source": [
    "### References:\n",
    "\n",
    "CAL FIRE (2024) *California Fire Perimeters (all)* [Data file] Available from: https://catalog.data.gov/dataset/california-fire-perimeters-all-b3436 Access date: 11/20/24\n",
    "\n",
    "Carmen Galaz García (2024) *UCSB MEDS - 220 - Working With Environmental Datasets * [Source of Homework Assignment]. Course Website: https://meds-eds-220.github.io/MEDS-eds-220-course/ Access date: 11/20/24"
   ]
  }
 ],
 "metadata": {
  "kernelspec": {
   "display_name": "Anaconda 3 (EDS220)",
   "language": "python",
   "name": "eds220-env"
  },
  "language_info": {
   "codemirror_mode": {
    "name": "ipython",
    "version": 3
   },
   "file_extension": ".py",
   "mimetype": "text/x-python",
   "name": "python",
   "nbconvert_exporter": "python",
   "pygments_lexer": "ipython3",
   "version": "3.11.4"
  }
 },
 "nbformat": 4,
 "nbformat_minor": 5
}
